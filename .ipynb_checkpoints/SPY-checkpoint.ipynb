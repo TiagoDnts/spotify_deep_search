{
 "cells": [
  {
   "cell_type": "markdown",
   "id": "3ea3c9f9",
   "metadata": {},
   "source": [
    "# SPOTIFY API DATA MINING"
   ]
  },
  {
   "cell_type": "markdown",
   "id": "12121fc7",
   "metadata": {},
   "source": [
    "### Introduction"
   ]
  },
  {
   "cell_type": "markdown",
   "id": "7ff7024a",
   "metadata": {},
   "source": [
    "lorem impsum lorem impsum lorem impsum lorem impsum lorem impsum "
   ]
  },
  {
   "cell_type": "markdown",
   "id": "6627b696",
   "metadata": {},
   "source": [
    "### Objective"
   ]
  },
  {
   "cell_type": "markdown",
   "id": "495a0f30",
   "metadata": {},
   "source": [
    "lorem impsum lorem impsum lorem impsum lorem impsum lorem impsum "
   ]
  },
  {
   "cell_type": "markdown",
   "id": "f21fd1e8",
   "metadata": {},
   "source": [
    "### Conclusion"
   ]
  },
  {
   "cell_type": "markdown",
   "id": "2af0b628",
   "metadata": {},
   "source": [
    "lorem impsum lorem impsum lorem impsum lorem impsum lorem impsum "
   ]
  },
  {
   "cell_type": "markdown",
   "id": "4dbcf1c6",
   "metadata": {},
   "source": [
    "---"
   ]
  },
  {
   "cell_type": "markdown",
   "id": "e681a87d",
   "metadata": {},
   "source": [
    "## INDEX"
   ]
  },
  {
   "cell_type": "markdown",
   "id": "72b44b30",
   "metadata": {},
   "source": [
    "### [Data Techniques](#DATA-TECHNIQUES)<br>\n",
    "\n",
    "### [Code structure:](#CODE-STRUCTURE)\n",
    "-  [Library imports](#LIBRARY-imports)\n",
    "-  [1 - Authentication - API Auth Methods](#1-|-AUTHENTICATION)\n",
    "-  [2 - Data Collection - API Get Methods](#2-|-DATA-COLLECTION)\n",
    "-  [3 - Data Processing - DarkMagic](#3-|-DATA-PROCESSING)\n",
    "-  [4 - Data Visualization - DataViz](#4-|-DATA-VISUALIZATION)\n",
    "\n",
    "### [Analysis Methods](#ANALYSIS-Methods)\n"
   ]
  },
  {
   "cell_type": "markdown",
   "id": "9a9b9a56",
   "metadata": {},
   "source": [
    "---"
   ]
  },
  {
   "cell_type": "markdown",
   "id": "0c5469a4",
   "metadata": {},
   "source": [
    "## DATA TECHNIQUES\n",
    "[>>> back to the INDEX](#INDEX)"
   ]
  },
  {
   "cell_type": "markdown",
   "id": "2c1763d6",
   "metadata": {},
   "source": [
    "##### 1. Data Cleaning \n",
    "##### 2. Association\n",
    "##### 3. Clustering\n",
    "##### 4. Classification \n",
    "##### 5. Data Visualization\n",
    "##### 6. Machine Learning \n",
    "##### 7. Prediction\n",
    "##### 8. Neural Networks\n",
    "##### 9. Outlier Detection\n",
    "##### Data Warehousing"
   ]
  },
  {
   "cell_type": "markdown",
   "id": "fa7c9a2f",
   "metadata": {},
   "source": [
    "---"
   ]
  },
  {
   "cell_type": "markdown",
   "id": "dec449cd",
   "metadata": {},
   "source": [
    "---"
   ]
  },
  {
   "cell_type": "markdown",
   "id": "9535f10b",
   "metadata": {},
   "source": [
    "## CODE STRUCTURE\n",
    "- [LIBRARY imports](#1-|-LIBRARY-imports)\n",
    "- [1 | AUTHENTICATION - API Auth Methods](#1-|-AUTHENTICATION)\n",
    "- [2 | DATA COLLECTION - API Get Methods](#2-|-DATA-COLLECTION)\n",
    "- [3 | DATA PROCESSING - DarkMagic](#3-|-DATA-PROCESSING)\n",
    "- [4 | DATA VISUALIZATION - DataViz](#4-|-DATA-VISUALIZATION)\n",
    "<br><br>[>>>  back to the INDEX](#INDEX)"
   ]
  },
  {
   "cell_type": "markdown",
   "id": "5c5d9f95",
   "metadata": {},
   "source": [
    "---"
   ]
  },
  {
   "cell_type": "markdown",
   "id": "0b88d174",
   "metadata": {},
   "source": [
    "### LIBRARY imports\n",
    "[>>> back to the INDEX](#INDEX)"
   ]
  },
  {
   "cell_type": "code",
   "execution_count": 138,
   "id": "fb2c0f6f",
   "metadata": {},
   "outputs": [],
   "source": [
    "### --- Libraries I am currently using:\n",
    "# Environment\n",
    "import sys\n",
    "    \n",
    "# Data Collection\n",
    "import spotipy\n",
    "from spotipy.oauth2 import SpotifyClientCredentials\n",
    "# import tekore as tk - spotipy alternative\n",
    "\n",
    "# Data Manipulation\n",
    "import pandas as pd\n",
    "import json\n",
    "import time \n",
    "\n",
    "# Oth\n",
    "import argparse\n",
    "import logging\n",
    "\n",
    "### --- Libraries I still want to use:\n",
    "# DataViz\n",
    "import matplotlib.pyplot as plt\n",
    "# import ggplot as ggp\n",
    "import seaborn as sns\n",
    "\n",
    "# ML and DL\n",
    "# import PyTorch\n",
    "# import Caffe2\n",
    "# import TensorFlow\n",
    "# import Keras\n",
    "# import Theano"
   ]
  },
  {
   "cell_type": "markdown",
   "id": "30103223",
   "metadata": {},
   "source": [
    "---"
   ]
  },
  {
   "cell_type": "markdown",
   "id": "6dd68a23",
   "metadata": {},
   "source": [
    "### 1 | AUTHENTICATION\n",
    "API Auth Methods<br><br>\n",
    "[>>> back to the INDEX](#INDEX)"
   ]
  },
  {
   "cell_type": "code",
   "execution_count": 139,
   "id": "571996ea",
   "metadata": {},
   "outputs": [],
   "source": [
    "cid=\"7ff0bc048c5b4f668d0bf5e109b689c9\"\n",
    "cs=\"59891a247ab54d609e45ca4f7253e86d\"\n",
    "\n",
    "client_credentials_manager = SpotifyClientCredentials(client_id=cid, client_secret=cs)\n",
    "sp = spotipy.Spotify(client_credentials_manager = client_credentials_manager)"
   ]
  },
  {
   "cell_type": "markdown",
   "id": "81363876",
   "metadata": {},
   "source": [
    "---"
   ]
  },
  {
   "cell_type": "markdown",
   "id": "05b71ab4",
   "metadata": {},
   "source": [
    "### 2 | DATA COLLECTION\n",
    "API Get Methods\n",
    "- [Get artist info](#Get-artist-info)\n",
    "- [Get tracks](#Get-tracks)\n",
    "<br><br>[>>> back to the INDEX](#INDEX)"
   ]
  },
  {
   "cell_type": "code",
   "execution_count": null,
   "id": "e912f24c",
   "metadata": {},
   "outputs": [],
   "source": []
  },
  {
   "cell_type": "markdown",
   "id": "7dda18c7",
   "metadata": {},
   "source": [
    "#### Get artist info"
   ]
  },
  {
   "cell_type": "code",
   "execution_count": 140,
   "id": "100927b8",
   "metadata": {},
   "outputs": [],
   "source": [
    "def get_artist(artist):\n",
    "    results = sp.search(q='artist:' + artist, type='artist')\n",
    "    items = results['artists']['items']\n",
    "    \n",
    "    if len(items) > 0:\n",
    "        if  pd.Series(items[0])[8] == 'artist':\n",
    "            return pd.Series(items[0])\n",
    "        else:\n",
    "            return print('get_artist: This search retrieves item not artist')\n",
    "    else:\n",
    "        return None\n",
    "\n",
    "# ### EXAMPLE\n",
    "# get_artist(artist=artist_name)"
   ]
  },
  {
   "cell_type": "markdown",
   "id": "a04e7332",
   "metadata": {},
   "source": [
    "#### Get Albums"
   ]
  },
  {
   "cell_type": "code",
   "execution_count": 141,
   "id": "8bb6a63f",
   "metadata": {},
   "outputs": [],
   "source": [
    "# from ARTIST\n",
    "def get_albums_from_artist(artist):\n",
    "    albums = []\n",
    "    list_of_albums=[]\n",
    "    results = sp.artist_albums(artist['id'], album_type='album')\n",
    "    albums = results['items']\n",
    "    first_artist_of_album = results['items'][0]['artists'][0]['name'] #\n",
    "    \n",
    "    for i in range (0,len(albums)):\n",
    "        album_name = results['items'][i]['name']\n",
    "        list_of_albums.append(album_name)\n",
    "            \n",
    "    return list_of_albums"
   ]
  },
  {
   "cell_type": "markdown",
   "id": "2b43f04d",
   "metadata": {},
   "source": [
    "#### Get Tracks"
   ]
  },
  {
   "cell_type": "code",
   "execution_count": 142,
   "id": "285ec21c",
   "metadata": {},
   "outputs": [],
   "source": [
    "# GET TRACKS FROM ARTIST NAME\n",
    "track_list = []\n",
    "\n",
    "def get_artist(name):\n",
    "    results = sp.search(q='artist:' + name, type='artist')\n",
    "    items = results['artists']['items']\n",
    "    if len(items) > 0:\n",
    "        return items[0]\n",
    "    else:\n",
    "        return None\n",
    "\n",
    "def show_album_tracks(album):\n",
    "    tracks = []\n",
    "    results = sp.album_tracks(album['id'])\n",
    "    tracks = results['items']    \n",
    "    first_artist_of_album = results['items'][0]['artists'][0]['name'] #\n",
    "    for i in range(0,len(tracks)):\n",
    "#         if first_artist_of_album == artist_name: ############### FILTERING albums that are not primarily by the artist\n",
    "        track_id = results['items'][i]['id']\n",
    "        track_list.append(track_id)\n",
    "    return track_list\n",
    "\n",
    "def show_artist_albums(artist):\n",
    "    albums = []\n",
    "    results = sp.artist_albums(artist['id'], album_type='album')\n",
    "    albums.extend(results['items'])\n",
    "    while results['next']:\n",
    "        results = sp.next(results)\n",
    "        albums.extend(results['items'])\n",
    "    unique = set()  # skip duplicate albums\n",
    "    for album in albums:\n",
    "        name = album['name'].lower()\n",
    "        if name not in unique:\n",
    "            unique.add(name)\n",
    "            track_list=show_album_tracks(album)            \n",
    "    return track_list\n",
    "\n",
    "def get_tracks(name):\n",
    "    artist = get_artist(name)\n",
    "    track_list=show_artist_albums(artist)\n",
    "    return track_list\n"
   ]
  },
  {
   "cell_type": "markdown",
   "id": "91ba8433",
   "metadata": {},
   "source": [
    "#### Get track info"
   ]
  },
  {
   "cell_type": "code",
   "execution_count": 143,
   "id": "87853411",
   "metadata": {},
   "outputs": [],
   "source": [
    "# shows track info for a URN or URL\n",
    "def get_track_info(track_id):\n",
    "    track = sp.track('spotify:track:'+track_id)\n",
    "    return track"
   ]
  },
  {
   "cell_type": "code",
   "execution_count": 144,
   "id": "2c66710f",
   "metadata": {},
   "outputs": [],
   "source": [
    "# Get all artists from playlist\n",
    "def get_artist_of_track(track):\n",
    "    artist_of_track = sp.track('spotify:track:'+track)['album']['artists'][0]['name']\n",
    "    return artist_of_track\n",
    "\n",
    "def get_artists_from_playlist(playlist):\n",
    "    artists_from_playlist=[]\n",
    "    response = sp.playlist_items(str('spotify:playlist:'+playlist),\n",
    "                                 offset=0,\n",
    "                                 fields='items.track.id,total',\n",
    "                                 additional_types=['track'])\n",
    "    for i in range (0, len(response['items'])):\n",
    "        track_id = (str(response['items'][i]['track']['id']))\n",
    "        artist_id = get_artist_of_track(track_id)\n",
    "        artists_from_playlist.append(artist_id)\n",
    "    return [*set(artists_from_playlist)]\n",
    "# EXAMPLE\n",
    "# artists_from_playlist=get_artists_from_playlist('0TRh1AAvKvpWd7JpMmDKMQ')\n",
    "# print(artists_from_playlist)"
   ]
  },
  {
   "cell_type": "code",
   "execution_count": 145,
   "id": "02c44768",
   "metadata": {},
   "outputs": [],
   "source": [
    "def get_discography_from_all_arists_from_playlists(list_of_playlists):\n",
    "    all_discography = pd.DataFrame()\n",
    "    for p in list_of_playlists:\n",
    "#         print(list_of_playlists)\n",
    "        artists=get_artists_from_playlist(p)\n",
    "#         print(artists)\n",
    "        for a in artists:\n",
    "#             print(a)\n",
    "            tracks=pd.DataFrame(get_tracks(a))\n",
    "#             print(tracks)\n",
    "            all_discography = pd.concat([all_discography, tracks], ignore_index=True).drop_duplicates()\n",
    "    return all_discography\n",
    "\n",
    "# EXAMPLE\n",
    "# print(get_discography_from_all_arists_from_playlists(['0TRh1AAvKvpWd7JpMmDKMQ']))"
   ]
  },
  {
   "cell_type": "markdown",
   "id": "e0b39552",
   "metadata": {},
   "source": [
    "---"
   ]
  },
  {
   "cell_type": "markdown",
   "id": "af274325",
   "metadata": {},
   "source": [
    "### 3 | DATA PROCESSING\n",
    "- [1 - Initial Table Modeling](#3.1-|-Initial-Table-Modeling)\n",
    "- [2 - ODS Modeling](#3.2-|-ODS-Modeling)\n",
    "<br><br>[>>> back to the INDEX](#INDEX)"
   ]
  },
  {
   "cell_type": "markdown",
   "id": "576bb63d",
   "metadata": {},
   "source": [
    "#### 3.1 | Feature gathering & enrinchment"
   ]
  },
  {
   "cell_type": "code",
   "execution_count": 146,
   "id": "2778c5d3",
   "metadata": {
    "scrolled": true
   },
   "outputs": [],
   "source": [
    "def get_artist_features(artist):\n",
    "# Getting artist basic data:\n",
    "    artist_id = get_artist(artist)[4] \n",
    "    name = get_artist(artist)[6] \n",
    "    genres = get_artist(artist)[2] # str(get_artist(artist)[2]).replace(\"[\",\"\").replace(\"]\",\"\")\n",
    "    popularity = get_artist(artist)[7] \n",
    "    followers = get_artist(artist)[1]['total']\n",
    "    \n",
    "    #Getting other artist data\n",
    "    \n",
    "    #Setting output\n",
    "    artist_features = [artist_id, name, genres, popularity, followers]\n",
    "    return artist_features\n",
    "\n",
    "### EXAMPLE\n",
    "# get_artist_features(artist='Astrix') "
   ]
  },
  {
   "cell_type": "code",
   "execution_count": 147,
   "id": "766d7169",
   "metadata": {},
   "outputs": [
    {
     "name": "stdout",
     "output_type": "stream",
     "text": [
      "                          0\n",
      "0    1HuYpMR84HV6ZZAejhnlju\n",
      "1    674ofY8Wg5XScUEwOMbfmF\n",
      "2    1yv9djEuwLbPfLc6OQXIRR\n",
      "3    6jKmQLXwy4TyS25WefSab3\n",
      "4    4QHZ7OWXHdwllkYUjfERN3\n",
      "..                      ...\n",
      "457  7ANjfmd3Lyix68QBjq8QVJ\n",
      "458  3f0jcmVo7ijnC6dnAcF8e8\n",
      "459  5gTJSXNRUMaJjLPrOp3k6V\n",
      "460  0HP7tZosQbJjImCJYrRq8q\n",
      "461  2FVgsTaWyDfUqSujanEwMr\n",
      "\n",
      "[256 rows x 1 columns]\n"
     ]
    }
   ],
   "source": [
    "playlist = '0TRh1AAvKvpWd7JpMmDKMQ'\n",
    "track_list = get_discography_from_all_arists_from_playlists([playlist])\n",
    "print(track_list)"
   ]
  },
  {
   "cell_type": "code",
   "execution_count": 152,
   "id": "361c2ac5",
   "metadata": {
    "scrolled": false
   },
   "outputs": [
    {
     "data": {
      "text/html": [
       "<div>\n",
       "<style scoped>\n",
       "    .dataframe tbody tr th:only-of-type {\n",
       "        vertical-align: middle;\n",
       "    }\n",
       "\n",
       "    .dataframe tbody tr th {\n",
       "        vertical-align: top;\n",
       "    }\n",
       "\n",
       "    .dataframe thead th {\n",
       "        text-align: right;\n",
       "    }\n",
       "</style>\n",
       "<table border=\"1\" class=\"dataframe\">\n",
       "  <thead>\n",
       "    <tr style=\"text-align: right;\">\n",
       "      <th></th>\n",
       "      <th>track_id</th>\n",
       "      <th>track_name</th>\n",
       "      <th>track_popularity</th>\n",
       "      <th>track_number_in_album</th>\n",
       "      <th>track_duration_ms</th>\n",
       "      <th>artist_id</th>\n",
       "      <th>artist_name</th>\n",
       "    </tr>\n",
       "  </thead>\n",
       "  <tbody>\n",
       "    <tr>\n",
       "      <th>0</th>\n",
       "      <td>1HuYpMR84HV6ZZAejhnlju</td>\n",
       "      <td>I Am You - Cosmic Trigger Remix</td>\n",
       "      <td>21</td>\n",
       "      <td>1</td>\n",
       "      <td>608924</td>\n",
       "      <td>0m5XJwKGYyUjd3VMfcINCQ</td>\n",
       "      <td>Shpongle</td>\n",
       "    </tr>\n",
       "    <tr>\n",
       "      <th>1</th>\n",
       "      <td>674ofY8Wg5XScUEwOMbfmF</td>\n",
       "      <td>Nothing Is Something Worth Doing - Cosmic Trig...</td>\n",
       "      <td>23</td>\n",
       "      <td>2</td>\n",
       "      <td>401889</td>\n",
       "      <td>0m5XJwKGYyUjd3VMfcINCQ</td>\n",
       "      <td>Shpongle</td>\n",
       "    </tr>\n",
       "    <tr>\n",
       "      <th>2</th>\n",
       "      <td>1yv9djEuwLbPfLc6OQXIRR</td>\n",
       "      <td>No Turn Unstoned - Cosmic Trigger Remix</td>\n",
       "      <td>18</td>\n",
       "      <td>3</td>\n",
       "      <td>293616</td>\n",
       "      <td>0m5XJwKGYyUjd3VMfcINCQ</td>\n",
       "      <td>Shpongle</td>\n",
       "    </tr>\n",
       "    <tr>\n",
       "      <th>3</th>\n",
       "      <td>6jKmQLXwy4TyS25WefSab3</td>\n",
       "      <td>How the Jellyfish Jumped up the Mountain - Cos...</td>\n",
       "      <td>17</td>\n",
       "      <td>4</td>\n",
       "      <td>361190</td>\n",
       "      <td>0m5XJwKGYyUjd3VMfcINCQ</td>\n",
       "      <td>Shpongle</td>\n",
       "    </tr>\n",
       "    <tr>\n",
       "      <th>4</th>\n",
       "      <td>4QHZ7OWXHdwllkYUjfERN3</td>\n",
       "      <td>Juggling Molecules - Cosmic Trigger Remix</td>\n",
       "      <td>17</td>\n",
       "      <td>5</td>\n",
       "      <td>473389</td>\n",
       "      <td>0m5XJwKGYyUjd3VMfcINCQ</td>\n",
       "      <td>Shpongle</td>\n",
       "    </tr>\n",
       "  </tbody>\n",
       "</table>\n",
       "</div>"
      ],
      "text/plain": [
       "                 track_id                                         track_name  \\\n",
       "0  1HuYpMR84HV6ZZAejhnlju                    I Am You - Cosmic Trigger Remix   \n",
       "1  674ofY8Wg5XScUEwOMbfmF  Nothing Is Something Worth Doing - Cosmic Trig...   \n",
       "2  1yv9djEuwLbPfLc6OQXIRR            No Turn Unstoned - Cosmic Trigger Remix   \n",
       "3  6jKmQLXwy4TyS25WefSab3  How the Jellyfish Jumped up the Mountain - Cos...   \n",
       "4  4QHZ7OWXHdwllkYUjfERN3          Juggling Molecules - Cosmic Trigger Remix   \n",
       "\n",
       "   track_popularity  track_number_in_album  track_duration_ms  \\\n",
       "0                21                      1             608924   \n",
       "1                23                      2             401889   \n",
       "2                18                      3             293616   \n",
       "3                17                      4             361190   \n",
       "4                17                      5             473389   \n",
       "\n",
       "                artist_id artist_name  \n",
       "0  0m5XJwKGYyUjd3VMfcINCQ    Shpongle  \n",
       "1  0m5XJwKGYyUjd3VMfcINCQ    Shpongle  \n",
       "2  0m5XJwKGYyUjd3VMfcINCQ    Shpongle  \n",
       "3  0m5XJwKGYyUjd3VMfcINCQ    Shpongle  \n",
       "4  0m5XJwKGYyUjd3VMfcINCQ    Shpongle  "
      ]
     },
     "execution_count": 152,
     "metadata": {},
     "output_type": "execute_result"
    }
   ],
   "source": [
    "# INFO ENDPOINT\n",
    "# shows info for given tracks\n",
    "# tracks=pd.DataFrame(track_list).reset_index()\n",
    "df_all_tracks_info = pd.DataFrame()\n",
    "\n",
    "for i in range(0, len(tracks)):\n",
    "    try:\n",
    "        get_track_info = sp.track(track_id=tracks[0][i])\n",
    "        data = {\n",
    "            'track_id':get_track_info['id'],\n",
    "            'track_name':get_track_info['name'],\n",
    "            'track_popularity':get_track_info['popularity'],\n",
    "            'track_number_in_album':get_track_info['track_number'],\n",
    "            'track_duration_ms':get_track_info['duration_ms'],\n",
    "            'artist_id':get_track_info['artists'][0]['id'],\n",
    "            'artist_name':get_track_info['artists'][0]['name']\n",
    "        }\n",
    "        df_track_info = pd.DataFrame(data, index=[0])\n",
    "        df_all_tracks_info = pd.concat([df_all_tracks_info,df_track_info], axis=0, ignore_index=True)\n",
    "        df_all_tracks_info = df_all_tracks_info.drop_duplicates()\n",
    "    except KeyError:\n",
    "        continue\n",
    "df_all_tracks_info.head()"
   ]
  },
  {
   "cell_type": "code",
   "execution_count": 159,
   "id": "5e428ec5",
   "metadata": {
    "scrolled": false
   },
   "outputs": [
    {
     "data": {
      "text/html": [
       "<div>\n",
       "<style scoped>\n",
       "    .dataframe tbody tr th:only-of-type {\n",
       "        vertical-align: middle;\n",
       "    }\n",
       "\n",
       "    .dataframe tbody tr th {\n",
       "        vertical-align: top;\n",
       "    }\n",
       "\n",
       "    .dataframe thead th {\n",
       "        text-align: right;\n",
       "    }\n",
       "</style>\n",
       "<table border=\"1\" class=\"dataframe\">\n",
       "  <thead>\n",
       "    <tr style=\"text-align: right;\">\n",
       "      <th></th>\n",
       "      <th>danceability</th>\n",
       "      <th>energy</th>\n",
       "      <th>key</th>\n",
       "      <th>loudness</th>\n",
       "      <th>mode</th>\n",
       "      <th>speechiness</th>\n",
       "      <th>acousticness</th>\n",
       "      <th>instrumentalness</th>\n",
       "      <th>valence</th>\n",
       "      <th>tempo</th>\n",
       "      <th>time_signature</th>\n",
       "    </tr>\n",
       "  </thead>\n",
       "  <tbody>\n",
       "    <tr>\n",
       "      <th>0</th>\n",
       "      <td>0.639</td>\n",
       "      <td>0.856</td>\n",
       "      <td>4</td>\n",
       "      <td>-6.382</td>\n",
       "      <td>1</td>\n",
       "      <td>0.0476</td>\n",
       "      <td>0.0392</td>\n",
       "      <td>0.771</td>\n",
       "      <td>0.3170</td>\n",
       "      <td>125.010</td>\n",
       "      <td>4</td>\n",
       "    </tr>\n",
       "    <tr>\n",
       "      <th>0</th>\n",
       "      <td>0.680</td>\n",
       "      <td>0.781</td>\n",
       "      <td>5</td>\n",
       "      <td>-6.671</td>\n",
       "      <td>0</td>\n",
       "      <td>0.0408</td>\n",
       "      <td>0.1390</td>\n",
       "      <td>0.576</td>\n",
       "      <td>0.1680</td>\n",
       "      <td>118.009</td>\n",
       "      <td>4</td>\n",
       "    </tr>\n",
       "    <tr>\n",
       "      <th>0</th>\n",
       "      <td>0.635</td>\n",
       "      <td>0.635</td>\n",
       "      <td>9</td>\n",
       "      <td>-8.508</td>\n",
       "      <td>0</td>\n",
       "      <td>0.0367</td>\n",
       "      <td>0.1750</td>\n",
       "      <td>0.862</td>\n",
       "      <td>0.1350</td>\n",
       "      <td>130.064</td>\n",
       "      <td>4</td>\n",
       "    </tr>\n",
       "    <tr>\n",
       "      <th>0</th>\n",
       "      <td>0.674</td>\n",
       "      <td>0.747</td>\n",
       "      <td>6</td>\n",
       "      <td>-8.412</td>\n",
       "      <td>0</td>\n",
       "      <td>0.0480</td>\n",
       "      <td>0.0230</td>\n",
       "      <td>0.660</td>\n",
       "      <td>0.0754</td>\n",
       "      <td>127.926</td>\n",
       "      <td>4</td>\n",
       "    </tr>\n",
       "    <tr>\n",
       "      <th>0</th>\n",
       "      <td>0.682</td>\n",
       "      <td>0.809</td>\n",
       "      <td>1</td>\n",
       "      <td>-9.342</td>\n",
       "      <td>1</td>\n",
       "      <td>0.0647</td>\n",
       "      <td>0.1080</td>\n",
       "      <td>0.698</td>\n",
       "      <td>0.2530</td>\n",
       "      <td>106.016</td>\n",
       "      <td>4</td>\n",
       "    </tr>\n",
       "  </tbody>\n",
       "</table>\n",
       "</div>"
      ],
      "text/plain": [
       "   danceability  energy  key  loudness  mode  speechiness  acousticness  \\\n",
       "0         0.639   0.856    4    -6.382     1       0.0476        0.0392   \n",
       "0         0.680   0.781    5    -6.671     0       0.0408        0.1390   \n",
       "0         0.635   0.635    9    -8.508     0       0.0367        0.1750   \n",
       "0         0.674   0.747    6    -8.412     0       0.0480        0.0230   \n",
       "0         0.682   0.809    1    -9.342     1       0.0647        0.1080   \n",
       "\n",
       "   instrumentalness  valence    tempo  time_signature  \n",
       "0             0.771   0.3170  125.010               4  \n",
       "0             0.576   0.1680  118.009               4  \n",
       "0             0.862   0.1350  130.064               4  \n",
       "0             0.660   0.0754  127.926               4  \n",
       "0             0.698   0.2530  106.016               4  "
      ]
     },
     "execution_count": 159,
     "metadata": {},
     "output_type": "execute_result"
    }
   ],
   "source": [
    "# FEATURES ENDPOINT\n",
    "# shows acoustic features for given tracks\n",
    "\n",
    "tracks=track_list[0]\n",
    "df_all_tracks_features = pd.DataFrame()\n",
    "for i in range(0,len(tracks)):\n",
    "    try:\n",
    "        get_track_features = sp.audio_features(tracks[i])[0]\n",
    "        data = {\n",
    "            'danceability': get_track_features['danceability'],\n",
    "            'energy': get_track_features['energy'],\n",
    "            'key': get_track_features['key'],\n",
    "            'loudness': get_track_features['loudness'],\n",
    "            'mode': get_track_features['mode'],\n",
    "            'speechiness': get_track_features['speechiness'],\n",
    "            'acousticness': get_track_features['acousticness'],\n",
    "            'instrumentalness': get_track_features['instrumentalness'],\n",
    "            'valence': get_track_features['valence'],\n",
    "            'tempo': get_track_features['tempo'],\n",
    "            'time_signature': get_track_features['time_signature']\n",
    "        }\n",
    "        df_in_analysis_track_feature = pd.DataFrame(data, index=[0])\n",
    "        df_all_tracks_features = pd.concat([df_all_tracks_features, df_in_analysis_track_feature], axis=0)\n",
    "    except KeyError:\n",
    "        continue\n",
    "df_all_tracks_features.head()\n"
   ]
  },
  {
   "cell_type": "code",
   "execution_count": 162,
   "id": "fdbb0a9a",
   "metadata": {},
   "outputs": [
    {
     "data": {
      "text/html": [
       "<div>\n",
       "<style scoped>\n",
       "    .dataframe tbody tr th:only-of-type {\n",
       "        vertical-align: middle;\n",
       "    }\n",
       "\n",
       "    .dataframe tbody tr th {\n",
       "        vertical-align: top;\n",
       "    }\n",
       "\n",
       "    .dataframe thead th {\n",
       "        text-align: right;\n",
       "    }\n",
       "</style>\n",
       "<table border=\"1\" class=\"dataframe\">\n",
       "  <thead>\n",
       "    <tr style=\"text-align: right;\">\n",
       "      <th></th>\n",
       "      <th>duration_s</th>\n",
       "      <th>loudness</th>\n",
       "      <th>analysis_sample_rate</th>\n",
       "      <th>tempo</th>\n",
       "      <th>time_signature</th>\n",
       "      <th>key</th>\n",
       "      <th>key_confidence</th>\n",
       "      <th>mode</th>\n",
       "      <th>mode_confidence</th>\n",
       "      <th>codestring</th>\n",
       "      <th>echoprintstring</th>\n",
       "      <th>synchstring</th>\n",
       "      <th>rhythmstring</th>\n",
       "    </tr>\n",
       "  </thead>\n",
       "  <tbody>\n",
       "    <tr>\n",
       "      <th>0</th>\n",
       "      <td>608.92444</td>\n",
       "      <td>-6.382</td>\n",
       "      <td>22050</td>\n",
       "      <td>125.010</td>\n",
       "      <td>4</td>\n",
       "      <td>4</td>\n",
       "      <td>0.218</td>\n",
       "      <td>1</td>\n",
       "      <td>0.337</td>\n",
       "      <td>eJxVnYmVJLsNBF0ZE6p403_HlBGo-TuS3pO2Od118MCRSA...</td>\n",
       "      <td>eJzsfQma3jiO7JW4L8fhev8jvAjInUrnK0LtlrPLNTP9zU...</td>\n",
       "      <td>eJxVWYe12zAMXEUjCOzcf7HgCuSfl29bhQRRDgeQae2d79...</td>\n",
       "      <td>eJylXQmSKzmuu4qPoH25_8W-CICSMu3q7okfMT2vypVWau...</td>\n",
       "    </tr>\n",
       "    <tr>\n",
       "      <th>0</th>\n",
       "      <td>401.88943</td>\n",
       "      <td>-6.671</td>\n",
       "      <td>22050</td>\n",
       "      <td>118.009</td>\n",
       "      <td>4</td>\n",
       "      <td>5</td>\n",
       "      <td>0.573</td>\n",
       "      <td>0</td>\n",
       "      <td>0.562</td>\n",
       "      <td>eJxdnQl25TqOBbfiJUicuf-N9Y2A_NPVfaqrUrQeRZGYcQ...</td>\n",
       "      <td>eJzkvQmiNDmOpHclJ925HYfr_Y-gzxDV-bJS7Ygpvc6u6d...</td>\n",
       "      <td>eJxtWA2a3DoIu4qPEPzv-1-skoDE0_Z727czjo1BCEG21m...</td>\n",
       "      <td>eJx9XQuS5Kqu3EotwYD47X9jj_wIu-fceBHnM9PtsjEISZ...</td>\n",
       "    </tr>\n",
       "    <tr>\n",
       "      <th>0</th>\n",
       "      <td>293.61652</td>\n",
       "      <td>-8.508</td>\n",
       "      <td>22050</td>\n",
       "      <td>130.064</td>\n",
       "      <td>4</td>\n",
       "      <td>9</td>\n",
       "      <td>0.532</td>\n",
       "      <td>0</td>\n",
       "      <td>0.506</td>\n",
       "      <td>eJxVnAm2G7sNRLeiJXAe9r-x3FtsfztJjvNItdgcMBQKoM...</td>\n",
       "      <td>eJztnQm6HbcNpbdUnMnlFKf9L6H_g5J15de5fHE_KXLSTv...</td>\n",
       "      <td>eJxdWguW3DAIu0qOYIO_979YgyTIbF-3u_NJbAxCCGbM2m...</td>\n",
       "      <td>eJxtXAeS5DgO_Eo9gd78_2OHNKB6Ni5idru7SqJIECaRAF...</td>\n",
       "    </tr>\n",
       "    <tr>\n",
       "      <th>0</th>\n",
       "      <td>361.19067</td>\n",
       "      <td>-8.412</td>\n",
       "      <td>22050</td>\n",
       "      <td>127.926</td>\n",
       "      <td>4</td>\n",
       "      <td>6</td>\n",
       "      <td>0.601</td>\n",
       "      <td>0</td>\n",
       "      <td>0.595</td>\n",
       "      <td>eJxdnQeC5chyJK9SRwBS5_0vRjcLVE99LpfDRj6IFCE9RL...</td>\n",
       "      <td>eJztnQmWLbeNbacU7MnhsJ3_EP4-uLJS1lIwS_X0LJe_Xa...</td>\n",
       "      <td>eJxlV9mV7DoITEUhGNCaf2KvFnruxzs93WPLCLEUBc781j...</td>\n",
       "      <td>eJyNXQmS5DiO_IqewPv4_8eWfoBSZPfMjllXZ1aERFEkCM...</td>\n",
       "    </tr>\n",
       "    <tr>\n",
       "      <th>0</th>\n",
       "      <td>473.38907</td>\n",
       "      <td>-9.342</td>\n",
       "      <td>22050</td>\n",
       "      <td>106.016</td>\n",
       "      <td>4</td>\n",
       "      <td>1</td>\n",
       "      <td>0.431</td>\n",
       "      <td>1</td>\n",
       "      <td>0.416</td>\n",
       "      <td>eJxNnQmW5TiOBK_yjyBx5_0v1m4GRXVOvzeVYuhL4obF4Q...</td>\n",
       "      <td>eJzsnW2a5DiOpK8kUaJIHoef9z_CvgZlh2fFM4J3rU901u...</td>\n",
       "      <td>eJxdmYmV5DgMQ1OpEExRl_NPbIUPyj1v3_TUYcsSTxBktf...</td>\n",
       "      <td>eJyFXQmSIzkO-4qfoPv4_8c2CYCU0q6ejZie7io7UzcPEK...</td>\n",
       "    </tr>\n",
       "  </tbody>\n",
       "</table>\n",
       "</div>"
      ],
      "text/plain": [
       "   duration_s  loudness  analysis_sample_rate    tempo  time_signature  key  \\\n",
       "0   608.92444    -6.382                 22050  125.010               4    4   \n",
       "0   401.88943    -6.671                 22050  118.009               4    5   \n",
       "0   293.61652    -8.508                 22050  130.064               4    9   \n",
       "0   361.19067    -8.412                 22050  127.926               4    6   \n",
       "0   473.38907    -9.342                 22050  106.016               4    1   \n",
       "\n",
       "   key_confidence  mode  mode_confidence  \\\n",
       "0           0.218     1            0.337   \n",
       "0           0.573     0            0.562   \n",
       "0           0.532     0            0.506   \n",
       "0           0.601     0            0.595   \n",
       "0           0.431     1            0.416   \n",
       "\n",
       "                                          codestring  \\\n",
       "0  eJxVnYmVJLsNBF0ZE6p403_HlBGo-TuS3pO2Od118MCRSA...   \n",
       "0  eJxdnQl25TqOBbfiJUicuf-N9Y2A_NPVfaqrUrQeRZGYcQ...   \n",
       "0  eJxVnAm2G7sNRLeiJXAe9r-x3FtsfztJjvNItdgcMBQKoM...   \n",
       "0  eJxdnQeC5chyJK9SRwBS5_0vRjcLVE99LpfDRj6IFCE9RL...   \n",
       "0  eJxNnQmW5TiOBK_yjyBx5_0v1m4GRXVOvzeVYuhL4obF4Q...   \n",
       "\n",
       "                                     echoprintstring  \\\n",
       "0  eJzsfQma3jiO7JW4L8fhev8jvAjInUrnK0LtlrPLNTP9zU...   \n",
       "0  eJzkvQmiNDmOpHclJ925HYfr_Y-gzxDV-bJS7Ygpvc6u6d...   \n",
       "0  eJztnQm6HbcNpbdUnMnlFKf9L6H_g5J15de5fHE_KXLSTv...   \n",
       "0  eJztnQmWLbeNbacU7MnhsJ3_EP4-uLJS1lIwS_X0LJe_Xa...   \n",
       "0  eJzsnW2a5DiOpK8kUaJIHoef9z_CvgZlh2fFM4J3rU901u...   \n",
       "\n",
       "                                         synchstring  \\\n",
       "0  eJxVWYe12zAMXEUjCOzcf7HgCuSfl29bhQRRDgeQae2d79...   \n",
       "0  eJxtWA2a3DoIu4qPEPzv-1-skoDE0_Z727czjo1BCEG21m...   \n",
       "0  eJxdWguW3DAIu0qOYIO_979YgyTIbF-3u_NJbAxCCGbM2m...   \n",
       "0  eJxlV9mV7DoITEUhGNCaf2KvFnruxzs93WPLCLEUBc781j...   \n",
       "0  eJxdmYmV5DgMQ1OpEExRl_NPbIUPyj1v3_TUYcsSTxBktf...   \n",
       "\n",
       "                                        rhythmstring  \n",
       "0  eJylXQmSKzmuu4qPoH25_8W-CICSMu3q7okfMT2vypVWau...  \n",
       "0  eJx9XQuS5Kqu3EotwYD47X9jj_wIu-fceBHnM9PtsjEISZ...  \n",
       "0  eJxtXAeS5DgO_Eo9gd78_2OHNKB6Ni5idru7SqJIECaRAF...  \n",
       "0  eJyNXQmS5DiO_IqewPv4_8eWfoBSZPfMjllXZ1aERFEkCM...  \n",
       "0  eJyFXQmSIzkO-4qfoPv4_8c2CYCU0q6ejZie7io7UzcPEK...  "
      ]
     },
     "execution_count": 162,
     "metadata": {},
     "output_type": "execute_result"
    }
   ],
   "source": [
    "# ANALYSIS ENDPOINT\n",
    "# shows analysis for given tracks\n",
    "tracks=track_list[0]\n",
    "df_all_tracks_analysis = pd.DataFrame()\n",
    "\n",
    "for i in range(0, len(tracks)):\n",
    "    try:\n",
    "        get_track_analysis = sp.audio_analysis(track_id=tracks[i])['track']\n",
    "        data = {       \n",
    "            'duration_s':get_track_analysis['duration'], \n",
    "            'loudness':get_track_analysis['loudness'],\n",
    "            'analysis_sample_rate':get_track_analysis['analysis_sample_rate'],\n",
    "            'tempo':get_track_analysis['tempo'],\n",
    "            'time_signature':get_track_analysis['time_signature'],\n",
    "            'key':get_track_analysis['key'],\n",
    "            'key_confidence':get_track_analysis['key_confidence'],\n",
    "            'mode':get_track_analysis['mode'], \n",
    "            'mode_confidence':get_track_analysis['mode_confidence'],\n",
    "            'codestring':get_track_analysis['codestring'],\n",
    "            'echoprintstring':get_track_analysis['echoprintstring'],\n",
    "            'synchstring':get_track_analysis['synchstring'],\n",
    "            'rhythmstring':get_track_analysis['rhythmstring']\n",
    "        }\n",
    "        df_track_analysis = pd.DataFrame(data, index=[0])\n",
    "        df_all_tracks_analysis = pd.concat([df_all_tracks_analysis,df_track_analysis], axis=0)\n",
    "    except KeyError:\n",
    "        continue\n",
    "df_all_tracks_analysis.head()\n"
   ]
  },
  {
   "cell_type": "markdown",
   "id": "43f2d94d",
   "metadata": {},
   "source": [
    "#### 3.2 | ODS Modeling"
   ]
  },
  {
   "cell_type": "code",
   "execution_count": 163,
   "id": "d2794e52",
   "metadata": {
    "scrolled": true
   },
   "outputs": [
    {
     "name": "stdout",
     "output_type": "stream",
     "text": [
      "ALL DATA FOR TRACKS:\n"
     ]
    },
    {
     "ename": "InvalidIndexError",
     "evalue": "Reindexing only valid with uniquely valued Index objects",
     "output_type": "error",
     "traceback": [
      "\u001b[1;31m---------------------------------------------------------------------------\u001b[0m",
      "\u001b[1;31mInvalidIndexError\u001b[0m                         Traceback (most recent call last)",
      "\u001b[1;32m~\\AppData\\Local\\Temp/ipykernel_16340/49364605.py\u001b[0m in \u001b[0;36m<module>\u001b[1;34m\u001b[0m\n\u001b[0;32m      1\u001b[0m \u001b[0mprint\u001b[0m\u001b[1;33m(\u001b[0m\u001b[1;34m'ALL DATA FOR TRACKS:'\u001b[0m\u001b[1;33m)\u001b[0m\u001b[1;33m\u001b[0m\u001b[1;33m\u001b[0m\u001b[0m\n\u001b[1;32m----> 2\u001b[1;33m \u001b[0mdf_all_tracks_data\u001b[0m \u001b[1;33m=\u001b[0m \u001b[0mpd\u001b[0m\u001b[1;33m.\u001b[0m\u001b[0mconcat\u001b[0m\u001b[1;33m(\u001b[0m\u001b[1;33m[\u001b[0m\u001b[0mdf_all_tracks_info\u001b[0m\u001b[1;33m,\u001b[0m \u001b[0mdf_all_tracks_features\u001b[0m\u001b[1;33m,\u001b[0m \u001b[0mdf_all_tracks_analysis\u001b[0m\u001b[1;33m]\u001b[0m\u001b[1;33m,\u001b[0m \u001b[0maxis\u001b[0m\u001b[1;33m=\u001b[0m\u001b[1;36m1\u001b[0m\u001b[1;33m)\u001b[0m\u001b[1;33m.\u001b[0m\u001b[0mdrop\u001b[0m\u001b[1;33m(\u001b[0m\u001b[1;33m[\u001b[0m\u001b[1;33m]\u001b[0m\u001b[1;33m,\u001b[0m\u001b[0maxis\u001b[0m\u001b[1;33m=\u001b[0m\u001b[1;36m1\u001b[0m\u001b[1;33m)\u001b[0m\u001b[1;33m\u001b[0m\u001b[1;33m\u001b[0m\u001b[0m\n\u001b[0m\u001b[0;32m      3\u001b[0m \u001b[0mdf_all_tracks_data\u001b[0m \u001b[1;33m=\u001b[0m \u001b[0mdf_all_tracks_data\u001b[0m\u001b[1;33m.\u001b[0m\u001b[0mloc\u001b[0m\u001b[1;33m[\u001b[0m\u001b[1;33m:\u001b[0m\u001b[1;33m,\u001b[0m\u001b[1;33m~\u001b[0m\u001b[0mdf_all_tracks_data\u001b[0m\u001b[1;33m.\u001b[0m\u001b[0mcolumns\u001b[0m\u001b[1;33m.\u001b[0m\u001b[0mduplicated\u001b[0m\u001b[1;33m(\u001b[0m\u001b[1;33m)\u001b[0m\u001b[1;33m]\u001b[0m\u001b[1;33m.\u001b[0m\u001b[0mcopy\u001b[0m\u001b[1;33m(\u001b[0m\u001b[1;33m)\u001b[0m\u001b[1;33m\u001b[0m\u001b[1;33m\u001b[0m\u001b[0m\n\u001b[0;32m      4\u001b[0m \u001b[0mdf_all_tracks_data\u001b[0m \u001b[1;33m=\u001b[0m \u001b[0mdf_all_tracks_data\u001b[0m\u001b[1;33m.\u001b[0m\u001b[0mdrop_duplicates\u001b[0m\u001b[1;33m(\u001b[0m\u001b[1;33m)\u001b[0m\u001b[1;33m\u001b[0m\u001b[1;33m\u001b[0m\u001b[0m\n\u001b[0;32m      5\u001b[0m \u001b[0mdf_all_tracks_data\u001b[0m\u001b[1;33m.\u001b[0m\u001b[0minfo\u001b[0m\u001b[1;33m(\u001b[0m\u001b[1;33m)\u001b[0m\u001b[1;33m\u001b[0m\u001b[1;33m\u001b[0m\u001b[0m\n",
      "\u001b[1;32mc:\\users\\danta\\appdata\\local\\programs\\python\\python39\\lib\\site-packages\\pandas\\core\\reshape\\concat.py\u001b[0m in \u001b[0;36mconcat\u001b[1;34m(objs, axis, join, ignore_index, keys, levels, names, verify_integrity, sort, copy)\u001b[0m\n\u001b[0;32m    296\u001b[0m     )\n\u001b[0;32m    297\u001b[0m \u001b[1;33m\u001b[0m\u001b[0m\n\u001b[1;32m--> 298\u001b[1;33m     \u001b[1;32mreturn\u001b[0m \u001b[0mop\u001b[0m\u001b[1;33m.\u001b[0m\u001b[0mget_result\u001b[0m\u001b[1;33m(\u001b[0m\u001b[1;33m)\u001b[0m\u001b[1;33m\u001b[0m\u001b[1;33m\u001b[0m\u001b[0m\n\u001b[0m\u001b[0;32m    299\u001b[0m \u001b[1;33m\u001b[0m\u001b[0m\n\u001b[0;32m    300\u001b[0m \u001b[1;33m\u001b[0m\u001b[0m\n",
      "\u001b[1;32mc:\\users\\danta\\appdata\\local\\programs\\python\\python39\\lib\\site-packages\\pandas\\core\\reshape\\concat.py\u001b[0m in \u001b[0;36mget_result\u001b[1;34m(self)\u001b[0m\n\u001b[0;32m    514\u001b[0m                     \u001b[0mobj_labels\u001b[0m \u001b[1;33m=\u001b[0m \u001b[0mobj\u001b[0m\u001b[1;33m.\u001b[0m\u001b[0maxes\u001b[0m\u001b[1;33m[\u001b[0m\u001b[1;36m1\u001b[0m \u001b[1;33m-\u001b[0m \u001b[0max\u001b[0m\u001b[1;33m]\u001b[0m\u001b[1;33m\u001b[0m\u001b[1;33m\u001b[0m\u001b[0m\n\u001b[0;32m    515\u001b[0m                     \u001b[1;32mif\u001b[0m \u001b[1;32mnot\u001b[0m \u001b[0mnew_labels\u001b[0m\u001b[1;33m.\u001b[0m\u001b[0mequals\u001b[0m\u001b[1;33m(\u001b[0m\u001b[0mobj_labels\u001b[0m\u001b[1;33m)\u001b[0m\u001b[1;33m:\u001b[0m\u001b[1;33m\u001b[0m\u001b[1;33m\u001b[0m\u001b[0m\n\u001b[1;32m--> 516\u001b[1;33m                         \u001b[0mindexers\u001b[0m\u001b[1;33m[\u001b[0m\u001b[0max\u001b[0m\u001b[1;33m]\u001b[0m \u001b[1;33m=\u001b[0m \u001b[0mobj_labels\u001b[0m\u001b[1;33m.\u001b[0m\u001b[0mget_indexer\u001b[0m\u001b[1;33m(\u001b[0m\u001b[0mnew_labels\u001b[0m\u001b[1;33m)\u001b[0m\u001b[1;33m\u001b[0m\u001b[1;33m\u001b[0m\u001b[0m\n\u001b[0m\u001b[0;32m    517\u001b[0m \u001b[1;33m\u001b[0m\u001b[0m\n\u001b[0;32m    518\u001b[0m                 \u001b[0mmgrs_indexers\u001b[0m\u001b[1;33m.\u001b[0m\u001b[0mappend\u001b[0m\u001b[1;33m(\u001b[0m\u001b[1;33m(\u001b[0m\u001b[0mobj\u001b[0m\u001b[1;33m.\u001b[0m\u001b[0m_mgr\u001b[0m\u001b[1;33m,\u001b[0m \u001b[0mindexers\u001b[0m\u001b[1;33m)\u001b[0m\u001b[1;33m)\u001b[0m\u001b[1;33m\u001b[0m\u001b[1;33m\u001b[0m\u001b[0m\n",
      "\u001b[1;32mc:\\users\\danta\\appdata\\local\\programs\\python\\python39\\lib\\site-packages\\pandas\\core\\indexes\\base.py\u001b[0m in \u001b[0;36mget_indexer\u001b[1;34m(self, target, method, limit, tolerance)\u001b[0m\n\u001b[0;32m   3169\u001b[0m \u001b[1;33m\u001b[0m\u001b[0m\n\u001b[0;32m   3170\u001b[0m         \u001b[1;32mif\u001b[0m \u001b[1;32mnot\u001b[0m \u001b[0mself\u001b[0m\u001b[1;33m.\u001b[0m\u001b[0mis_unique\u001b[0m\u001b[1;33m:\u001b[0m\u001b[1;33m\u001b[0m\u001b[1;33m\u001b[0m\u001b[0m\n\u001b[1;32m-> 3171\u001b[1;33m             raise InvalidIndexError(\n\u001b[0m\u001b[0;32m   3172\u001b[0m                 \u001b[1;34m\"Reindexing only valid with uniquely valued Index objects\"\u001b[0m\u001b[1;33m\u001b[0m\u001b[1;33m\u001b[0m\u001b[0m\n\u001b[0;32m   3173\u001b[0m             )\n",
      "\u001b[1;31mInvalidIndexError\u001b[0m: Reindexing only valid with uniquely valued Index objects"
     ]
    }
   ],
   "source": [
    "print('ALL DATA FOR TRACKS:')\n",
    "df_all_tracks_data = pd.concat([df_all_tracks_info, df_all_tracks_features, df_all_tracks_analysis], axis=1).drop([],axis=1)\n",
    "df_all_tracks_data = df_all_tracks_data.loc[:,~df_all_tracks_data.columns.duplicated()].copy()\n",
    "df_all_tracks_data = df_all_tracks_data.drop_duplicates()\n",
    "df_all_tracks_data.info()\n",
    "print(\"-------------------------------\")\n",
    "print('ALL NUMERICA DATA FOR TRACKS:')\n",
    "df_track_data_numerical = df_all_tracks_data.drop(columns=['track_id','track_name','artist_id','artist_name','codestring','echoprintstring','synchstring','rhythmstring','analysis_sample_rate','duration_s'])#'artist_id','artist_name','codestring','echoprintstring','synchstring','rythmstring'])\n",
    "df_track_data_numerical = df_track_data_numerical.drop_duplicates()\n",
    "df_track_data_numerical = df_track_data_numerical.reset_index()\n",
    "df_track_data_numerical.info()"
   ]
  },
  {
   "cell_type": "markdown",
   "id": "7e94f73d",
   "metadata": {},
   "source": [
    "---"
   ]
  },
  {
   "cell_type": "markdown",
   "id": "092706d4",
   "metadata": {},
   "source": [
    "### 4 | DATA VISUALIZATION\n",
    "[>>> back to the INDEX](#INDEX)"
   ]
  },
  {
   "cell_type": "code",
   "execution_count": null,
   "id": "016ba83c",
   "metadata": {},
   "outputs": [],
   "source": [
    "# Histogram of all numerical\n",
    "df_track_data_numerical.hist(figsize=(16, 20), bins=30, xlabelsize=8, ylabelsize=8)"
   ]
  },
  {
   "cell_type": "code",
   "execution_count": null,
   "id": "137f8aa6",
   "metadata": {},
   "outputs": [],
   "source": [
    "# Calculate Correlations\n",
    "df_num_corr = df_track_data_numerical.corr()\n",
    "\n",
    "# Print all correlation with popularity sorted by most correlated to least\n",
    "print(df_num_corr['track_popularity'].sort_values(ascending=False)) "
   ]
  },
  {
   "cell_type": "code",
   "execution_count": null,
   "id": "b07d78ec",
   "metadata": {},
   "outputs": [],
   "source": [
    "# Seaborn - Pairplot based on Y column\n",
    "for i in range(0, len(df_track_data_numerical.columns), 5):\n",
    "    sns.pairplot(data=df_track_data_numerical,\n",
    "                x_vars=df_track_data_numerical.columns[i:i+5],\n",
    "                y_vars=['track_popularity'])"
   ]
  },
  {
   "cell_type": "code",
   "execution_count": null,
   "id": "56aa53d4",
   "metadata": {},
   "outputs": [],
   "source": [
    "# Seaborn - Pairplot (ALL)\n",
    "sns.set_theme(style=\"ticks\")\n",
    "sns.pairplot(df_track_data_numerical) #hue=\"species\""
   ]
  },
  {
   "cell_type": "code",
   "execution_count": null,
   "id": "5f33b2a9",
   "metadata": {},
   "outputs": [],
   "source": [
    "# Single column describe + plot data distriubtion\n",
    "print(df_track_data_numerical['track_popularity'].describe())\n",
    "plt.figure(figsize=(9, 8))\n",
    "sns.distplot(df_track_data_numerical['track_popularity'], color='g', bins=100, hist_kws={'alpha': 0.4});"
   ]
  },
  {
   "cell_type": "code",
   "execution_count": null,
   "id": "fea346f9",
   "metadata": {},
   "outputs": [],
   "source": [
    "# Correlation map\n",
    "corr = df_track_data_numerical.drop('track_popularity', axis=1).corr() # We already examined SalePrice correlations\n",
    "plt.figure(figsize=(12, 10))\n",
    "\n",
    "sns.heatmap(corr[(corr >= 0.1) | (corr <= -0.1)], \n",
    "            cmap='viridis', vmax=1.0, vmin=-1.0, linewidths=0.1,\n",
    "            annot=True, annot_kws={\"size\": 8}, square=True);"
   ]
  },
  {
   "cell_type": "code",
   "execution_count": null,
   "id": "1916c70d",
   "metadata": {},
   "outputs": [],
   "source": []
  },
  {
   "cell_type": "markdown",
   "id": "36da7a68",
   "metadata": {},
   "source": [
    "---"
   ]
  },
  {
   "cell_type": "markdown",
   "id": "5e98bac8",
   "metadata": {},
   "source": [
    "## ANALYSIS Methods\n",
    "Track Audio Analysis\n",
    "\n",
    "\n",
    "<br><br>[>>> back to the INDEX](#INDEX)"
   ]
  },
  {
   "cell_type": "markdown",
   "id": "1c17a43d",
   "metadata": {},
   "source": [
    "Data Hierarchy\n",
    "Artist > Album > Track >"
   ]
  },
  {
   "cell_type": "code",
   "execution_count": null,
   "id": "83d8a5d4",
   "metadata": {},
   "outputs": [],
   "source": []
  },
  {
   "cell_type": "code",
   "execution_count": null,
   "id": "1b3ecc50",
   "metadata": {},
   "outputs": [],
   "source": []
  },
  {
   "cell_type": "code",
   "execution_count": null,
   "id": "5c37db3b",
   "metadata": {},
   "outputs": [],
   "source": []
  }
 ],
 "metadata": {
  "kernelspec": {
   "display_name": "Python 3 (ipykernel)",
   "language": "python",
   "name": "python3"
  },
  "language_info": {
   "codemirror_mode": {
    "name": "ipython",
    "version": 3
   },
   "file_extension": ".py",
   "mimetype": "text/x-python",
   "name": "python",
   "nbconvert_exporter": "python",
   "pygments_lexer": "ipython3",
   "version": "3.9.2"
  }
 },
 "nbformat": 4,
 "nbformat_minor": 5
}
