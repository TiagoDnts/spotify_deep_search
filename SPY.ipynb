{
 "cells": [
  {
   "cell_type": "markdown",
   "id": "3ea3c9f9",
   "metadata": {},
   "source": [
    "# SPOTIFY API DATA MINING"
   ]
  },
  {
   "cell_type": "markdown",
   "id": "12121fc7",
   "metadata": {},
   "source": [
    "### Introduction"
   ]
  },
  {
   "cell_type": "markdown",
   "id": "7ff7024a",
   "metadata": {},
   "source": [
    "lorem impsum lorem impsum lorem impsum lorem impsum lorem impsum "
   ]
  },
  {
   "cell_type": "markdown",
   "id": "6627b696",
   "metadata": {},
   "source": [
    "### Objective"
   ]
  },
  {
   "cell_type": "markdown",
   "id": "495a0f30",
   "metadata": {},
   "source": [
    "lorem impsum lorem impsum lorem impsum lorem impsum lorem impsum "
   ]
  },
  {
   "cell_type": "markdown",
   "id": "f21fd1e8",
   "metadata": {},
   "source": [
    "### Conclusion"
   ]
  },
  {
   "cell_type": "markdown",
   "id": "2af0b628",
   "metadata": {},
   "source": [
    "lorem impsum lorem impsum lorem impsum lorem impsum lorem impsum "
   ]
  },
  {
   "cell_type": "markdown",
   "id": "4dbcf1c6",
   "metadata": {},
   "source": [
    "---"
   ]
  },
  {
   "cell_type": "markdown",
   "id": "e681a87d",
   "metadata": {},
   "source": [
    "## INDEX"
   ]
  },
  {
   "cell_type": "markdown",
   "id": "72b44b30",
   "metadata": {},
   "source": [
    "### [Data Techniques](#DATA-TECHNIQUES)<br>\n",
    "\n",
    "### [Code structure:](#CODE-STRUCTURE)\n",
    "-  [Library imports](#LIBRARY-imports)\n",
    "-  [1 - Authentication - API Auth Methods](#1-|-AUTHENTICATION)\n",
    "-  [2 - Data Collection - API Get Methods](#2-|-DATA-COLLECTION)\n",
    "-  [3 - Data Processing - DarkMagic](#3-|-DATA-PROCESSING)\n",
    "-  [4 - Data Visualization - DataViz](#4-|-DATA-VISUALIZATION)\n",
    "\n",
    "### [Analysis Methods](#ANALYSIS-Methods)\n"
   ]
  },
  {
   "cell_type": "markdown",
   "id": "9a9b9a56",
   "metadata": {},
   "source": [
    "---"
   ]
  },
  {
   "cell_type": "markdown",
   "id": "0c5469a4",
   "metadata": {},
   "source": [
    "## DATA TECHNIQUES\n",
    "[>>> back to the INDEX](#INDEX)"
   ]
  },
  {
   "cell_type": "markdown",
   "id": "2c1763d6",
   "metadata": {},
   "source": [
    "##### 1. Data Cleaning \n",
    "##### 2. Association\n",
    "##### 3. Clustering\n",
    "##### 4. Classification \n",
    "##### 5. Data Visualization\n",
    "##### 6. Machine Learning \n",
    "##### 7. Prediction\n",
    "##### 8. Neural Networks\n",
    "##### 9. Outlier Detection\n",
    "##### Data Warehousing"
   ]
  },
  {
   "cell_type": "markdown",
   "id": "fa7c9a2f",
   "metadata": {},
   "source": [
    "---"
   ]
  },
  {
   "cell_type": "markdown",
   "id": "dec449cd",
   "metadata": {},
   "source": [
    "---"
   ]
  },
  {
   "cell_type": "markdown",
   "id": "9535f10b",
   "metadata": {},
   "source": [
    "## CODE STRUCTURE\n",
    "- [LIBRARY imports](#1-|-LIBRARY-imports)\n",
    "- [1 | AUTHENTICATION - API Auth Methods](#1-|-AUTHENTICATION)\n",
    "- [2 | DATA COLLECTION - API Get Methods](#2-|-DATA-COLLECTION)\n",
    "- [3 | DATA PROCESSING - DarkMagic](#3-|-DATA-PROCESSING)\n",
    "- [4 | DATA VISUALIZATION - DataViz](#4-|-DATA-VISUALIZATION)\n",
    "<br><br>[>>>  back to the INDEX](#INDEX)"
   ]
  },
  {
   "cell_type": "markdown",
   "id": "5c5d9f95",
   "metadata": {},
   "source": [
    "---"
   ]
  },
  {
   "cell_type": "markdown",
   "id": "0b88d174",
   "metadata": {},
   "source": [
    "### LIBRARY imports\n",
    "[>>> back to the INDEX](#INDEX)"
   ]
  },
  {
   "cell_type": "code",
   "execution_count": 1,
   "id": "fb2c0f6f",
   "metadata": {},
   "outputs": [
    {
     "ename": "ModuleNotFoundError",
     "evalue": "No module named 'spotipy'",
     "output_type": "error",
     "traceback": [
      "\u001B[0;31m---------------------------------------------------------------------------\u001B[0m",
      "\u001B[0;31mModuleNotFoundError\u001B[0m                       Traceback (most recent call last)",
      "Cell \u001B[0;32mIn [1], line 6\u001B[0m\n\u001B[1;32m      3\u001B[0m \u001B[38;5;28;01mimport\u001B[39;00m \u001B[38;5;21;01msys\u001B[39;00m\n\u001B[1;32m      5\u001B[0m \u001B[38;5;66;03m# Data Collection\u001B[39;00m\n\u001B[0;32m----> 6\u001B[0m \u001B[38;5;28;01mimport\u001B[39;00m \u001B[38;5;21;01mspotipy\u001B[39;00m\n\u001B[1;32m      7\u001B[0m \u001B[38;5;28;01mfrom\u001B[39;00m \u001B[38;5;21;01mspotipy\u001B[39;00m\u001B[38;5;21;01m.\u001B[39;00m\u001B[38;5;21;01moauth2\u001B[39;00m \u001B[38;5;28;01mimport\u001B[39;00m SpotifyClientCredentials\n\u001B[1;32m      8\u001B[0m \u001B[38;5;66;03m# import tekore as tk - spotipy alternative\u001B[39;00m\n\u001B[1;32m      9\u001B[0m \n\u001B[1;32m     10\u001B[0m \u001B[38;5;66;03m# Data Manipulation\u001B[39;00m\n",
      "\u001B[0;31mModuleNotFoundError\u001B[0m: No module named 'spotipy'"
     ]
    }
   ],
   "source": [
    "### --- Libraries I am currently using:\n",
    "# Environment\n",
    "import sys\n",
    "    \n",
    "# Data Collection\n",
    "import spotipy\n",
    "from spotipy.oauth2 import SpotifyClientCredentials\n",
    "# import tekore as tk - spotipy alternative\n",
    "\n",
    "# Data Manipulation\n",
    "import pandas as pd\n",
    "import json\n",
    "import time \n",
    "\n",
    "# Oth\n",
    "import argparse\n",
    "import logging\n",
    "\n",
    "### --- Libraries I still want to use:\n",
    "# DataViz\n",
    "import matplotlib.pyplot as plt\n",
    "# import ggplot as ggp\n",
    "import seaborn as sns\n",
    "\n",
    "# ML and DL\n",
    "# import PyTorch\n",
    "# import Caffe2\n",
    "# import TensorFlow\n",
    "# import Keras\n",
    "# import Theano"
   ]
  },
  {
   "cell_type": "markdown",
   "id": "30103223",
   "metadata": {},
   "source": [
    "---"
   ]
  },
  {
   "cell_type": "markdown",
   "id": "6dd68a23",
   "metadata": {},
   "source": [
    "### 1 | AUTHENTICATION\n",
    "API Auth Methods<br><br>\n",
    "[>>> back to the INDEX](#INDEX)"
   ]
  },
  {
   "cell_type": "code",
   "execution_count": null,
   "id": "571996ea",
   "metadata": {},
   "outputs": [],
   "source": [
    "cid=\"7ff0bc048c5b4f668d0bf5e109b689c9\"\n",
    "cs=\"59891a247ab54d609e45ca4f7253e86d\"\n",
    "\n",
    "client_credentials_manager = SpotifyClientCredentials(client_id=cid, client_secret=cs)\n",
    "sp = spotipy.Spotify(client_credentials_manager = client_credentials_manager)"
   ]
  },
  {
   "cell_type": "markdown",
   "id": "81363876",
   "metadata": {},
   "source": [
    "---"
   ]
  },
  {
   "cell_type": "markdown",
   "id": "05b71ab4",
   "metadata": {},
   "source": [
    "### 2 | DATA COLLECTION\n",
    "API Get Methods\n",
    "- [Get artist info](#Get-artist-info)\n",
    "- Get Albums\n",
    "- [Get tracks](#Get-tracks)\n",
    "- Get tracks info\n",
    "<br><br>[>>> back to the INDEX](#INDEX)"
   ]
  },
  {
   "cell_type": "code",
   "execution_count": null,
   "id": "e912f24c",
   "metadata": {},
   "outputs": [],
   "source": []
  },
  {
   "cell_type": "markdown",
   "id": "7dda18c7",
   "metadata": {},
   "source": [
    "#### Get artist info"
   ]
  },
  {
   "cell_type": "code",
   "execution_count": null,
   "id": "100927b8",
   "metadata": {},
   "outputs": [],
   "source": [
    "def get_artist(artist):\n",
    "    results = sp.search(q='artist:' + artist, type='artist')\n",
    "    items = results['artists']['items']\n",
    "    \n",
    "    if len(items) > 0:\n",
    "        if  pd.Series(items[0])[8] == 'artist':\n",
    "            return pd.Series(items[0])\n",
    "        else:\n",
    "            return print('get_artist: This search retrieves item not artist')\n",
    "    else:\n",
    "        return None\n",
    "\n",
    "# ### EXAMPLE\n",
    "# get_artist(artist=artist_name)"
   ]
  },
  {
   "cell_type": "markdown",
   "id": "a04e7332",
   "metadata": {},
   "source": [
    "#### Get Albums"
   ]
  },
  {
   "cell_type": "code",
   "execution_count": null,
   "id": "8bb6a63f",
   "metadata": {},
   "outputs": [],
   "source": [
    "# from ARTIST\n",
    "def get_albums_from_artist(artist):\n",
    "    albums = []\n",
    "    list_of_albums=[]\n",
    "    results = sp.artist_albums(artist['id'], album_type='album')\n",
    "    albums = results['items']\n",
    "    first_artist_of_album = results['items'][0]['artists'][0]['name'] #\n",
    "    \n",
    "    for i in range (0,len(albums)):\n",
    "        album_name = results['items'][i]['name']\n",
    "        list_of_albums.append(album_name)\n",
    "            \n",
    "    return list_of_albums"
   ]
  },
  {
   "cell_type": "markdown",
   "id": "2b43f04d",
   "metadata": {},
   "source": [
    "#### Get Tracks"
   ]
  },
  {
   "cell_type": "code",
   "execution_count": null,
   "id": "285ec21c",
   "metadata": {},
   "outputs": [],
   "source": [
    "# GET TRACKS FROM ARTIST NAME\n",
    "track_list = []\n",
    "\n",
    "def get_artist(name):\n",
    "    results = sp.search(q='artist:' + name, type='artist')\n",
    "    items = results['artists']['items']\n",
    "    if len(items) > 0:\n",
    "        return items[0]\n",
    "    else:\n",
    "        return None\n",
    "\n",
    "def show_album_tracks(album):\n",
    "    tracks = []\n",
    "    results = sp.album_tracks(album['id'])\n",
    "    tracks = results['items']    \n",
    "    first_artist_of_album = results['items'][0]['artists'][0]['name'] #\n",
    "    for i in range(0,len(tracks)):\n",
    "#         if first_artist_of_album == artist_name: ############### FILTERING albums that are not primarily by the artist\n",
    "        track_id = results['items'][i]['id']\n",
    "        track_list.append(track_id)\n",
    "    return track_list\n",
    "\n",
    "def show_artist_albums(artist):\n",
    "    albums = []\n",
    "    results = sp.artist_albums(artist['id'], album_type='album')\n",
    "    albums.extend(results['items'])\n",
    "    while results['next']:\n",
    "        results = sp.next(results)\n",
    "        albums.extend(results['items'])\n",
    "    unique = set()  # skip duplicate albums\n",
    "    for album in albums:\n",
    "        name = album['name'].lower()\n",
    "        if name not in unique:\n",
    "            unique.add(name)\n",
    "            track_list=show_album_tracks(album)            \n",
    "    return track_list\n",
    "\n",
    "def get_tracks(name):\n",
    "    artist = get_artist(name)\n",
    "    track_list=show_artist_albums(artist)\n",
    "    return track_list\n"
   ]
  },
  {
   "cell_type": "markdown",
   "id": "91ba8433",
   "metadata": {},
   "source": [
    "#### Get track info"
   ]
  },
  {
   "cell_type": "code",
   "execution_count": null,
   "id": "87853411",
   "metadata": {},
   "outputs": [],
   "source": [
    "# shows track info for a URN or URL\n",
    "def get_track_info(track_id):\n",
    "    track = sp.track('spotify:track:'+track_id)\n",
    "    return track"
   ]
  },
  {
   "cell_type": "code",
   "execution_count": null,
   "id": "2c66710f",
   "metadata": {},
   "outputs": [],
   "source": [
    "# Get all artists from playlist\n",
    "def get_artist_of_track(track):\n",
    "    artist_of_track = sp.track('spotify:track:'+track)['album']['artists'][0]['name']\n",
    "    return artist_of_track\n",
    "\n",
    "def get_artists_from_playlist(playlist):\n",
    "    artists_from_playlist=[]\n",
    "    response = sp.playlist_items(str('spotify:playlist:'+playlist),\n",
    "                                 offset=0,\n",
    "                                 fields='items.track.id,total',\n",
    "                                 additional_types=['track'])\n",
    "    for i in range (0, len(response['items'])):\n",
    "        track_id = (str(response['items'][i]['track']['id']))\n",
    "        artist_id = get_artist_of_track(track_id)\n",
    "        artists_from_playlist.append(artist_id)\n",
    "    return [*set(artists_from_playlist)]\n",
    "# EXAMPLE\n",
    "# artists_from_playlist=get_artists_from_playlist('0TRh1AAvKvpWd7JpMmDKMQ')\n",
    "# print(artists_from_playlist)"
   ]
  },
  {
   "cell_type": "code",
   "execution_count": null,
   "id": "02c44768",
   "metadata": {},
   "outputs": [],
   "source": [
    "def get_discography_from_all_arists_from_playlists(list_of_playlists):\n",
    "    all_discography = pd.DataFrame()\n",
    "    for p in list_of_playlists:\n",
    "#         print(list_of_playlists)\n",
    "        artists=get_artists_from_playlist(p)\n",
    "#         print(artists)\n",
    "        for a in artists:\n",
    "#             print(a)\n",
    "            tracks=pd.DataFrame(get_tracks(a))\n",
    "#             print(tracks)\n",
    "            all_discography = pd.concat([all_discography, tracks], ignore_index=True).drop_duplicates()\n",
    "    return all_discography\n",
    "\n",
    "# EXAMPLE\n",
    "# print(get_discography_from_all_arists_from_playlists(['0TRh1AAvKvpWd7JpMmDKMQ']))"
   ]
  },
  {
   "cell_type": "markdown",
   "id": "e0b39552",
   "metadata": {},
   "source": [
    "---"
   ]
  },
  {
   "cell_type": "markdown",
   "id": "af274325",
   "metadata": {},
   "source": [
    "### 3 | DATA PROCESSING\n",
    "- [1 - Initial Table Modeling](#3.1-|-Initial-Table-Modeling)\n",
    "- [2 - ODS Modeling](#3.2-|-ODS-Modeling)\n",
    "<br><br>[>>> back to the INDEX](#INDEX)"
   ]
  },
  {
   "cell_type": "markdown",
   "id": "576bb63d",
   "metadata": {},
   "source": [
    "#### 3.1 | Feature gathering & enrinchment"
   ]
  },
  {
   "cell_type": "code",
   "execution_count": null,
   "id": "2778c5d3",
   "metadata": {
    "scrolled": true
   },
   "outputs": [],
   "source": [
    "def get_artist_features(artist):\n",
    "# Getting artist basic data:\n",
    "    artist_id = get_artist(artist)[4] \n",
    "    name = get_artist(artist)[6] \n",
    "    genres = get_artist(artist)[2] # str(get_artist(artist)[2]).replace(\"[\",\"\").replace(\"]\",\"\")\n",
    "    popularity = get_artist(artist)[7] \n",
    "    followers = get_artist(artist)[1]['total']\n",
    "    \n",
    "    #Getting other artist data\n",
    "    #Setting output\n",
    "    artist_features = [artist_id, name, genres, popularity, followers]\n",
    "    return artist_features\n",
    "\n",
    "### EXAMPLE\n",
    "# get_artist_features(artist='Astrix') "
   ]
  },
  {
   "cell_type": "code",
   "execution_count": null,
   "id": "766d7169",
   "metadata": {},
   "outputs": [],
   "source": [
    "playlist = '0TRh1AAvKvpWd7JpMmDKMQ'\n",
    "track_list = get_discography_from_all_arists_from_playlists([playlist])\n",
    "print(track_list)"
   ]
  },
  {
   "cell_type": "code",
   "execution_count": null,
   "id": "361c2ac5",
   "metadata": {
    "scrolled": false
   },
   "outputs": [],
   "source": [
    "# INFO ENDPOINT\n",
    "# shows info for given tracks\n",
    "tracks=pd.DataFrame(track_list).reset_index()\n",
    "df_all_tracks_info = pd.DataFrame()\n",
    "\n",
    "for i in range(0, len(tracks)):\n",
    "    try:\n",
    "        get_track_info = sp.track(track_id=tracks[0][i])\n",
    "        data = {\n",
    "            'track_id':get_track_info['id'],\n",
    "            'track_name':get_track_info['name'],\n",
    "            'track_popularity':get_track_info['popularity'],\n",
    "            'track_number_in_album':get_track_info['track_number'],\n",
    "            'track_duration_ms':get_track_info['duration_ms'],\n",
    "            'artist_id':get_track_info['artists'][0]['id'],\n",
    "            'artist_name':get_track_info['artists'][0]['name']\n",
    "        }\n",
    "        df_track_info = pd.DataFrame(data, index=[0])\n",
    "        df_all_tracks_info = pd.concat([df_all_tracks_info,df_track_info], axis=0, ignore_index=True)\n",
    "        df_all_tracks_info = df_all_tracks_info.drop_duplicates()\n",
    "    except KeyError:\n",
    "        continue\n",
    "df_all_tracks_info.head()"
   ]
  },
  {
   "cell_type": "code",
   "execution_count": null,
   "id": "5e428ec5",
   "metadata": {
    "scrolled": false
   },
   "outputs": [],
   "source": [
    "# FEATURES ENDPOINT\n",
    "# shows acoustic features for given tracks\n",
    "\n",
    "tracks=track_list[0]\n",
    "df_all_tracks_features = pd.DataFrame()\n",
    "for i in range(0,len(tracks)):\n",
    "    try:\n",
    "        get_track_features = sp.audio_features(tracks[i])[0]\n",
    "        data = {\n",
    "            'danceability': get_track_features['danceability'],\n",
    "            'energy': get_track_features['energy'],\n",
    "            'key': get_track_features['key'],\n",
    "            'loudness': get_track_features['loudness'],\n",
    "            'mode': get_track_features['mode'],\n",
    "            'speechiness': get_track_features['speechiness'],\n",
    "            'acousticness': get_track_features['acousticness'],\n",
    "            'instrumentalness': get_track_features['instrumentalness'],\n",
    "            'valence': get_track_features['valence'],\n",
    "            'tempo': get_track_features['tempo'],\n",
    "            'time_signature': get_track_features['time_signature']\n",
    "        }\n",
    "        df_in_analysis_track_feature = pd.DataFrame(data, index=[0])\n",
    "        df_all_tracks_features = pd.concat([df_all_tracks_features, df_in_analysis_track_feature], axis=0)\n",
    "    except KeyError:\n",
    "        continue\n",
    "df_all_tracks_features.head()\n"
   ]
  },
  {
   "cell_type": "code",
   "execution_count": null,
   "id": "fdbb0a9a",
   "metadata": {},
   "outputs": [],
   "source": [
    "# ANALYSIS ENDPOINT\n",
    "# shows analysis for given tracks\n",
    "tracks=track_list[0]\n",
    "df_all_tracks_analysis = pd.DataFrame()\n",
    "\n",
    "for i in range(0, len(tracks)):\n",
    "    try:\n",
    "        get_track_analysis = sp.audio_analysis(track_id=tracks[i])['track']\n",
    "        data = {       \n",
    "            'duration_s':get_track_analysis['duration'], \n",
    "            'loudness':get_track_analysis['loudness'],\n",
    "            'analysis_sample_rate':get_track_analysis['analysis_sample_rate'],\n",
    "            'tempo':get_track_analysis['tempo'],\n",
    "            'time_signature':get_track_analysis['time_signature'],\n",
    "            'key':get_track_analysis['key'],\n",
    "            'key_confidence':get_track_analysis['key_confidence'],\n",
    "            'mode':get_track_analysis['mode'], \n",
    "            'mode_confidence':get_track_analysis['mode_confidence'],\n",
    "            'codestring':get_track_analysis['codestring'],\n",
    "            'echoprintstring':get_track_analysis['echoprintstring'],\n",
    "            'synchstring':get_track_analysis['synchstring'],\n",
    "            'rhythmstring':get_track_analysis['rhythmstring']\n",
    "        }\n",
    "        df_track_analysis = pd.DataFrame(data, index=[0])\n",
    "        df_all_tracks_analysis = pd.concat([df_all_tracks_analysis,df_track_analysis], axis=0)\n",
    "    except KeyError:\n",
    "        continue\n",
    "df_all_tracks_analysis.head()\n"
   ]
  },
  {
   "cell_type": "markdown",
   "id": "43f2d94d",
   "metadata": {},
   "source": [
    "#### 3.2 | ODS Modeling"
   ]
  },
  {
   "cell_type": "code",
   "execution_count": null,
   "id": "d2794e52",
   "metadata": {
    "scrolled": true
   },
   "outputs": [],
   "source": [
    "print('ALL DATA FOR TRACKS:')\n",
    "df_all_tracks_data = pd.concat([df_all_tracks_info, df_all_tracks_features, df_all_tracks_analysis], axis=1)\n",
    "df_all_tracks_data = df_all_tracks_data.loc[:,~df_all_tracks_data.columns.duplicated()].copy()\n",
    "df_all_tracks_data = df_all_tracks_data.drop_duplicates()\n",
    "df_all_tracks_data.info()\n",
    "print(\"-------------------------------\")\n",
    "print('ALL NUMERICA DATA FOR TRACKS:')\n",
    "df_track_data_numerical = df_all_tracks_data.drop(columns=['track_id','track_name','artist_id','artist_name','codestring','echoprintstring','synchstring','rhythmstring','analysis_sample_rate','duration_s'])#'artist_id','artist_name','codestring','echoprintstring','synchstring','rythmstring'])\n",
    "df_track_data_numerical = df_track_data_numerical.drop_duplicates()\n",
    "df_track_data_numerical = df_track_data_numerical.reset_index()\n",
    "df_track_data_numerical.info()"
   ]
  },
  {
   "cell_type": "markdown",
   "id": "7e94f73d",
   "metadata": {},
   "source": [
    "---"
   ]
  },
  {
   "cell_type": "markdown",
   "id": "092706d4",
   "metadata": {},
   "source": [
    "### 4 | DATA VISUALIZATION\n",
    "[>>> back to the INDEX](#INDEX)"
   ]
  },
  {
   "cell_type": "code",
   "execution_count": null,
   "id": "016ba83c",
   "metadata": {},
   "outputs": [],
   "source": [
    "# Histogram of all numerical\n",
    "df_track_data_numerical.hist(figsize=(16, 20), bins=30, xlabelsize=8, ylabelsize=8)"
   ]
  },
  {
   "cell_type": "code",
   "execution_count": null,
   "id": "137f8aa6",
   "metadata": {},
   "outputs": [],
   "source": [
    "# Calculate Correlations\n",
    "df_num_corr = df_track_data_numerical.corr()\n",
    "\n",
    "# Print all correlation with popularity sorted by most correlated to least\n",
    "print(df_num_corr['track_popularity'].sort_values(ascending=False)) "
   ]
  },
  {
   "cell_type": "code",
   "execution_count": null,
   "id": "b07d78ec",
   "metadata": {},
   "outputs": [],
   "source": [
    "# Seaborn - Pairplot based on Y column\n",
    "for i in range(0, len(df_track_data_numerical.columns), 5):\n",
    "    sns.pairplot(data=df_track_data_numerical,\n",
    "                x_vars=df_track_data_numerical.columns[i:i+5],\n",
    "                y_vars=['track_popularity'])"
   ]
  },
  {
   "cell_type": "code",
   "execution_count": null,
   "id": "56aa53d4",
   "metadata": {},
   "outputs": [],
   "source": [
    "# Seaborn - Pairplot (ALL)\n",
    "sns.set_theme(style=\"ticks\")\n",
    "sns.pairplot(df_track_data_numerical) #hue=\"species\""
   ]
  },
  {
   "cell_type": "code",
   "execution_count": null,
   "id": "5f33b2a9",
   "metadata": {},
   "outputs": [],
   "source": [
    "# Single column describe + plot data distriubtion\n",
    "print(df_track_data_numerical['track_popularity'].describe())\n",
    "plt.figure(figsize=(9, 8))\n",
    "sns.distplot(df_track_data_numerical['track_popularity'], color='g', bins=100, hist_kws={'alpha': 0.4});"
   ]
  },
  {
   "cell_type": "code",
   "execution_count": null,
   "id": "fea346f9",
   "metadata": {},
   "outputs": [],
   "source": [
    "# Correlation map\n",
    "corr = df_track_data_numerical.drop('track_popularity', axis=1).corr() # We already examined SalePrice correlations\n",
    "plt.figure(figsize=(12, 10))\n",
    "\n",
    "sns.heatmap(corr[(corr >= 0.1) | (corr <= -0.1)], \n",
    "            cmap='viridis', vmax=1.0, vmin=-1.0, linewidths=0.1,\n",
    "            annot=True, annot_kws={\"size\": 8}, square=True);"
   ]
  },
  {
   "cell_type": "code",
   "execution_count": null,
   "id": "1916c70d",
   "metadata": {},
   "outputs": [],
   "source": []
  },
  {
   "cell_type": "markdown",
   "id": "36da7a68",
   "metadata": {},
   "source": [
    "---"
   ]
  },
  {
   "cell_type": "markdown",
   "id": "5e98bac8",
   "metadata": {},
   "source": [
    "## ANALYSIS Methods\n",
    "Track Audio Analysis\n",
    "\n",
    "\n",
    "<br><br>[>>> back to the INDEX](#INDEX)"
   ]
  },
  {
   "cell_type": "markdown",
   "id": "1c17a43d",
   "metadata": {},
   "source": [
    "Data Hierarchy\n",
    "Artist > Album > Track >"
   ]
  },
  {
   "cell_type": "code",
   "execution_count": null,
   "id": "83d8a5d4",
   "metadata": {},
   "outputs": [],
   "source": []
  },
  {
   "cell_type": "code",
   "execution_count": null,
   "id": "1b3ecc50",
   "metadata": {},
   "outputs": [],
   "source": []
  },
  {
   "cell_type": "code",
   "execution_count": null,
   "id": "5c37db3b",
   "metadata": {},
   "outputs": [],
   "source": []
  }
 ],
 "metadata": {
  "kernelspec": {
   "display_name": "Python 3 (ipykernel)",
   "language": "python",
   "name": "python3"
  },
  "language_info": {
   "codemirror_mode": {
    "name": "ipython",
    "version": 3
   },
   "file_extension": ".py",
   "mimetype": "text/x-python",
   "name": "python",
   "nbconvert_exporter": "python",
   "pygments_lexer": "ipython3",
   "version": "3.9.2"
  }
 },
 "nbformat": 4,
 "nbformat_minor": 5
}
